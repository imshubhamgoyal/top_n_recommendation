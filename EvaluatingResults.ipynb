{
  "nbformat": 4,
  "nbformat_minor": 0,
  "metadata": {
    "colab": {
      "name": "EvaluatingResults.ipynb",
      "version": "0.3.2",
      "provenance": [],
      "collapsed_sections": []
    },
    "kernelspec": {
      "name": "python3",
      "display_name": "Python 3"
    },
    "accelerator": "TPU"
  },
  "cells": [
    {
      "metadata": {
        "id": "eQAGYy7Z0yTf",
        "colab_type": "code",
        "colab": {
          "base_uri": "https://localhost:8080/",
          "height": 122
        },
        "outputId": "df4fb08c-d313-41d4-fe6f-e6779c4ac043"
      },
      "cell_type": "code",
      "source": [
        "# from google.colab import files\n",
        "# files.upload()\n",
        "from google.colab import drive \n",
        "drive.mount('/content/drive/')"
      ],
      "execution_count": 4,
      "outputs": [
        {
          "output_type": "stream",
          "text": [
            "Go to this URL in a browser: https://accounts.google.com/o/oauth2/auth?client_id=947318989803-6bn6qk8qdgf4n4g3pfee6491hc0brc4i.apps.googleusercontent.com&redirect_uri=urn%3Aietf%3Awg%3Aoauth%3A2.0%3Aoob&scope=email%20https%3A%2F%2Fwww.googleapis.com%2Fauth%2Fdocs.test%20https%3A%2F%2Fwww.googleapis.com%2Fauth%2Fdrive%20https%3A%2F%2Fwww.googleapis.com%2Fauth%2Fdrive.photos.readonly%20https%3A%2F%2Fwww.googleapis.com%2Fauth%2Fpeopleapi.readonly&response_type=code\n",
            "\n",
            "Enter your authorization code:\n",
            "··········\n",
            "Mounted at /content/drive/\n"
          ],
          "name": "stdout"
        }
      ]
    },
    {
      "metadata": {
        "id": "Dn-auYkB-j2P",
        "colab_type": "code",
        "colab": {}
      },
      "cell_type": "code",
      "source": [
        "\n",
        "import json\n",
        "from scipy import spatial\n",
        "\n",
        "import numpy as np \n",
        "import pandas as pd\n",
        "from pandas.tools.plotting import scatter_matrix\n",
        "from random import randint\n",
        "from sklearn.cluster import KMeans\n",
        "import numpy as np\n",
        "from scipy import spatial\n",
        "from operator import itemgetter\n",
        "from scipy.cluster.vq import vq, kmeans, whiten\n",
        "import matplotlib.pyplot as plt\n",
        "\n",
        "Dataset='Jester Dataset'"
      ],
      "execution_count": 0,
      "outputs": []
    },
    {
      "metadata": {
        "id": "1CWr8mW_3XEz",
        "colab_type": "code",
        "colab": {}
      },
      "cell_type": "code",
      "source": [
        "global_text=open('/content/drive/My Drive/IIITD/CF_project/'+Dataset+'/global.json').read()\n",
        "global_df=np.array(json.loads(global_text))"
      ],
      "execution_count": 0,
      "outputs": []
    },
    {
      "metadata": {
        "id": "IlXWD799_45G",
        "colab_type": "code",
        "colab": {}
      },
      "cell_type": "code",
      "source": [
        "input_text = open('/content/drive/My Drive/IIITD/CF_project/'+Dataset+'/local.json').read()\n",
        "local_df=np.array(json.loads(input_text))"
      ],
      "execution_count": 0,
      "outputs": []
    },
    {
      "metadata": {
        "id": "pdRuA_KD_cgn",
        "colab_type": "code",
        "outputId": "5bb37016-379f-4202-ecf6-a93cbece2847",
        "colab": {
          "base_uri": "https://localhost:8080/",
          "height": 51
        }
      },
      "cell_type": "code",
      "source": [
        "print(global_df.shape)\n",
        "print(local_df.shape)"
      ],
      "execution_count": 8,
      "outputs": [
        {
          "output_type": "stream",
          "text": [
            "(100, 100)\n",
            "(10, 100, 100)\n"
          ],
          "name": "stdout"
        }
      ]
    },
    {
      "metadata": {
        "id": "HaHpl8M9mIt-",
        "colab_type": "code",
        "colab": {}
      },
      "cell_type": "code",
      "source": [
        "import random\n",
        "users=random.sample(range(23499),20000)\n",
        "print(users)"
      ],
      "execution_count": 0,
      "outputs": []
    },
    {
      "metadata": {
        "id": "gBzL103pUw4m",
        "colab_type": "code",
        "colab": {}
      },
      "cell_type": "code",
      "source": [
        "# d1=dict()\n",
        "# user=set()\n",
        "# item=set()\n",
        "# with open('/content/drive/My Drive/IIITD/CF_project/MovieLens Dataset/u.data') as f:\n",
        "#     for line in f:\n",
        "#         l1=line.split('\\t')\n",
        "#         u=int(l1[0])\n",
        "#         i=int(l1[1])\n",
        "#         rat=int(l1[2])\n",
        "#         user.add(u)\n",
        "#         item.add(i)\n",
        "#         d1[(u,i)]=rat\n",
        "# tt=int(len(user)/5)+1\n",
        "\n",
        "# mat=np.zeros((len(user),len(item)))\n",
        "\n",
        "# for ele in d1:\n",
        "#     u=ele[0]-1\n",
        "#     i=ele[1]-1\n",
        "#     rat=d1[ele]\n",
        "#     mat[u,i]=rat\n",
        "\n",
        "# no_of_cluster=10\n",
        "# kmeans = KMeans(n_clusters=10, random_state=0).fit(mat)\n",
        "# d1=dict()\n",
        "# clusters=[[]]*no_of_cluster\n",
        "# for i in range(len(kmeans.labels_)):\n",
        "#   label=kmeans.labels_[i]\n",
        "#   clusters[label].append(i)\n",
        "#   d1[i]=label\n",
        "import pickle\n",
        "\n",
        "dfile = open('/content/drive/My Drive/IIITD/CF_project/'+Dataset+'/cluster_10', 'rb')\n",
        "d1=pickle.load(dfile)                      \n",
        "dfile.close() \n",
        "\n",
        "dfile = open('/content/drive/My Drive/IIITD/CF_project/'+Dataset+'/rating_Matrix', 'rb')       \n",
        "mat=pickle.load(dfile)\n",
        "##### d1 gives cluster label of users\n",
        "\n",
        "##### mat is rating matrix\n"
      ],
      "execution_count": 0,
      "outputs": []
    },
    {
      "metadata": {
        "id": "-6hGYSiWDGOC",
        "colab_type": "code",
        "colab": {}
      },
      "cell_type": "code",
      "source": [
        "no_of_users=mat.shape[0]\n",
        "no_of_items=mat.shape[1]\n"
      ],
      "execution_count": 0,
      "outputs": []
    },
    {
      "metadata": {
        "id": "Hymf5wn25ECc",
        "colab_type": "code",
        "outputId": "283a5f03-8f53-4dfd-c189-b90e3ca2b599",
        "colab": {
          "base_uri": "https://localhost:8080/",
          "height": 34
        }
      },
      "cell_type": "code",
      "source": [
        "print(mat.shape)"
      ],
      "execution_count": 12,
      "outputs": [
        {
          "output_type": "stream",
          "text": [
            "(23500, 100)\n"
          ],
          "name": "stdout"
        }
      ]
    },
    {
      "metadata": {
        "id": "0pJRu1uaqb_8",
        "colab_type": "code",
        "colab": {}
      },
      "cell_type": "code",
      "source": [
        "g=[None]*no_of_users\n",
        "\n",
        "for u in users:\n",
        "  clust_label=d1[u]\n",
        "#   print(clust_label)\n",
        "  numerator=0\n",
        "  denominator=0\n",
        "  for i in range(no_of_items):\n",
        "    local_sim=0\n",
        "    global_sim=0\n",
        "    for l in range(no_of_items):\n",
        "      if mat[u][l]!=0:\n",
        "        local_sim+=local_df[clust_label][l][i]\n",
        "        global_sim+=global_df[l][i]\n",
        "\n",
        "    numerator+=(global_sim-local_sim)*(mat[u][i]-local_sim)\n",
        "    denominator+=(global_sim-local_sim)*(global_sim-local_sim)\n",
        "  g[u]=float(numerator/denominator)\n",
        "#   print(g[u])\n",
        "# print(\"ok\")\n",
        "# pickleObject=open('/content/drive/My Drive/IIITD/CF_project/'+Dataset+'/calculated_gu','wb')\n",
        "# pickle.dump(g,pickleObject)"
      ],
      "execution_count": 0,
      "outputs": []
    },
    {
      "metadata": {
        "id": "to3jT7xvBH0A",
        "colab_type": "code",
        "colab": {}
      },
      "cell_type": "code",
      "source": [
        "g=np.array(g)\n",
        "# print(g[users])\n",
        "mini=g[users].min()\n",
        "# print(mini)\n",
        "g[users]=g[users]-mini\n",
        "maxi=g[users].max()\n",
        "# print(maxi)\n",
        "g[users]=g[users]/maxi\n",
        "# print(g[users])"
      ],
      "execution_count": 0,
      "outputs": []
    },
    {
      "metadata": {
        "id": "x3MBj-8iuE2A",
        "colab_type": "code",
        "colab": {}
      },
      "cell_type": "code",
      "source": [
        "# u=0\n",
        "# i=0\n",
        "# print(local_df[8][:5,:5])\n",
        "# print(global_df[:5,:5])\n",
        "# labl=d1[u]\n",
        "# local_local=0\n",
        "# global_global=0\n",
        "# for l in range(no_of_items):\n",
        "#   if(mat[l][i]!=0):\n",
        "#     local_local+=local_df[labl][l][i]\n",
        "#     global_global+=global_df[l][i]\n",
        "# print(local_local)\n",
        "# print(global_global)"
      ],
      "execution_count": 0,
      "outputs": []
    },
    {
      "metadata": {
        "id": "58rt4BLrFyBd",
        "colab_type": "code",
        "colab": {}
      },
      "cell_type": "code",
      "source": [
        "\n",
        "g=[0.5]*(no_of_users)\n",
        "\n",
        "pred_rating=np.zeros((no_of_users,no_of_items))\n",
        "\n",
        "# for u in range(no_of_users):\n",
        "for u in users:\n",
        "  for i in range(no_of_items):\n",
        "    summ=0\n",
        "    sum1=0\n",
        "    sum2=0\n",
        "    clust_label=d1[u]\n",
        "    for l in range(no_of_items):\n",
        "      if(mat[u][l]!=0):\n",
        "    #     summ+=g[u]*global_df[l][i]+(1-g[u])*local_df[clust_label][l][i]\n",
        "        sum1+=global_df[l][i]\n",
        "        sum2+=local_df[clust_label][l][i]\n",
        "\n",
        "    pred_rating[u][i]=g[u]*sum1+(1-g[u])*sum2\n",
        "#     print(\"final sum\", pred_rating[u][i])\n",
        "#   print(\"user\",u)"
      ],
      "execution_count": 0,
      "outputs": []
    },
    {
      "metadata": {
        "id": "uyuEun_oF3_H",
        "colab_type": "code",
        "colab": {}
      },
      "cell_type": "code",
      "source": [
        "# d1=dict()\n",
        "# user=set()\n",
        "# item=set()\n",
        "# with open('/content/drive/My Drive/IIITD/CF_project/MovieLens Dataset/u.data') as f:\n",
        "#     for line in f:\n",
        "#         l1=line.split('\\t')\n",
        "#         u=int(l1[0])\n",
        "#         i=int(l1[1])\n",
        "#         rat=int(l1[2])\n",
        "#         user.add(u)\n",
        "#         item.add(i)\n",
        "#         d1[(u,i)]=rat\n",
        "# tt=int(len(user)/5)+1\n",
        "\n",
        "# mat=np.zeros((len(user),len(item)))\n",
        "\n",
        "# for ele in d1:\n",
        "#     u=ele[0]-1\n",
        "#     i=ele[1]-1\n",
        "#     rat=d1[ele]\n",
        "#     mat[u,i]=rat\n",
        "\n",
        "# no_of_cluster=10\n",
        "# kmeans = KMeans(n_clusters=10, random_state=0).fit(mat)\n",
        "# d1=dict()\n",
        "# clusters=[[]]*no_of_cluster\n",
        "# for i in range(len(kmeans.labels_)):\n",
        "#   label=kmeans.labels_[i]\n",
        "#   clusters[label].append(i)\n",
        "#   d1[i]=label\n",
        "  \n",
        "##### d1 gives cluster label of users\n",
        "\n",
        "##### mat is rating matrix\n"
      ],
      "execution_count": 0,
      "outputs": []
    },
    {
      "metadata": {
        "id": "H_JaKcBk5DXh",
        "colab_type": "code",
        "outputId": "e20ca95b-fd23-4a69-f692-f871499babda",
        "colab": {
          "base_uri": "https://localhost:8080/",
          "height": 51
        }
      },
      "cell_type": "code",
      "source": [
        "import random\n",
        "\n",
        "def find(x,lis):\n",
        "  lis=list(lis)\n",
        "  try:\n",
        "    return lis.index(x)+1\n",
        "  except:\n",
        "    return 0\n",
        "\n",
        "hit=0\n",
        "arhr=0\n",
        "TopN=20\n",
        "for u in users:\n",
        "  predicted_max= pred_rating[u].argsort()[-TopN:][::-1]\n",
        "  true_max=mat[u].argsort()[-TopN:][::1]\n",
        "  rand_num=random.randint(0,TopN-1)\n",
        "  pos=find(true_max[rand_num],predicted_max)\n",
        "#   print(pos)\n",
        "  if(pos!=0):\n",
        "    hit+=1\n",
        "    arhr+=1/pos\n",
        "#     print('hit')\n",
        "#   else:\n",
        "#     print('miss')\n",
        "# print(len(users))\n",
        "HR=hit/len(users)\n",
        "ARHR=arhr/len(users)\n",
        "\n",
        "print(\"HR:\",HR)\n",
        "print(\"ARHR:\",ARHR)"
      ],
      "execution_count": 124,
      "outputs": [
        {
          "output_type": "stream",
          "text": [
            "HR: 0.65\n",
            "ARHR: 0.07429258241758242\n"
          ],
          "name": "stdout"
        }
      ]
    },
    {
      "metadata": {
        "id": "M1Y7zxa493hw",
        "colab_type": "code",
        "outputId": "332b9073-8fad-40df-e4e5-1e2d9b744e8c",
        "colab": {
          "base_uri": "https://localhost:8080/",
          "height": 50
        }
      },
      "cell_type": "code",
      "source": [
        "l=np.array([1,2,3,40,5,6,7,8,9,10])\n",
        "predicted_max= l.argsort()[-5:][::-1]\n",
        "print(predicted_max)\n",
        "print(l[predicted_max])\n"
      ],
      "execution_count": 0,
      "outputs": [
        {
          "output_type": "stream",
          "text": [
            "[3 9 8 7 6]\n",
            "[40 10  9  8  7]\n"
          ],
          "name": "stdout"
        }
      ]
    }
  ]
}