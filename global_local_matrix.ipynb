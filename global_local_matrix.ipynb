{
  "nbformat": 4,
  "nbformat_minor": 0,
  "metadata": {
    "colab": {
      "name": "global_local matrix.ipynb",
      "version": "0.3.2",
      "provenance": [],
      "collapsed_sections": []
    },
    "kernelspec": {
      "name": "python3",
      "display_name": "Python 3"
    }
  },
  "cells": [
    {
      "metadata": {
        "id": "li3GTcD6vxZv",
        "colab_type": "code",
        "outputId": "8b352e32-6fb5-4ac5-9a38-ba52e8d35cac",
        "colab": {
          "base_uri": "https://localhost:8080/",
          "height": 122
        }
      },
      "cell_type": "code",
      "source": [
        "from google.colab import drive \n",
        "drive.mount('/content/drive/')"
      ],
      "execution_count": 2,
      "outputs": [
        {
          "output_type": "stream",
          "text": [
            "Go to this URL in a browser: https://accounts.google.com/o/oauth2/auth?client_id=947318989803-6bn6qk8qdgf4n4g3pfee6491hc0brc4i.apps.googleusercontent.com&redirect_uri=urn%3Aietf%3Awg%3Aoauth%3A2.0%3Aoob&scope=email%20https%3A%2F%2Fwww.googleapis.com%2Fauth%2Fdocs.test%20https%3A%2F%2Fwww.googleapis.com%2Fauth%2Fdrive%20https%3A%2F%2Fwww.googleapis.com%2Fauth%2Fdrive.photos.readonly%20https%3A%2F%2Fwww.googleapis.com%2Fauth%2Fpeopleapi.readonly&response_type=code\n",
            "\n",
            "Enter your authorization code:\n",
            "··········\n",
            "Mounted at /content/drive/\n"
          ],
          "name": "stdout"
        }
      ]
    },
    {
      "metadata": {
        "id": "ZiYlk-8_mgMO",
        "colab_type": "code",
        "outputId": "6e34dbc7-b413-4e6a-83dc-4c89ef62936e",
        "colab": {
          "base_uri": "https://localhost:8080/",
          "height": 122
        }
      },
      "cell_type": "code",
      "source": [
        "!pip install xlrd"
      ],
      "execution_count": 3,
      "outputs": [
        {
          "output_type": "stream",
          "text": [
            "Collecting xlrd\n",
            "\u001b[?25l  Downloading https://files.pythonhosted.org/packages/07/e6/e95c4eec6221bfd8528bcc4ea252a850bffcc4be88ebc367e23a1a84b0bb/xlrd-1.1.0-py2.py3-none-any.whl (108kB)\n",
            "\u001b[K    100% |████████████████████████████████| 112kB 2.7MB/s \n",
            "\u001b[?25hInstalling collected packages: xlrd\n",
            "Successfully installed xlrd-1.1.0\n"
          ],
          "name": "stdout"
        }
      ]
    },
    {
      "metadata": {
        "id": "zE5c0aTIVXFT",
        "colab_type": "code",
        "colab": {}
      },
      "cell_type": "code",
      "source": [
        "from scipy import spatial\n",
        "\n",
        "import pickle\n",
        "import numpy as np \n",
        "import pandas as pd\n",
        "from pandas.tools.plotting import scatter_matrix\n",
        "from random import randint\n",
        "from sklearn.cluster import KMeans\n",
        "import numpy as np\n",
        "from scipy import spatial\n",
        "from operator import itemgetter\n",
        "from scipy.cluster.vq import vq, kmeans, whiten\n",
        "import matplotlib.pyplot as plt\n",
        "d1=dict()\n",
        "user=set()\n",
        "item=set()\n",
        "# with open('/content/drive/My Drive/IIITD/CF_project/MovieLens Dataset/u.data') as f:\n",
        "#     for line in f:\n",
        "#         l1=line.split('\\t')\n",
        "#         u=int(l1[0])\n",
        "#         i=int(l1[1])\n",
        "#         rat=int(l1[2])\n",
        "#         user.add(u)\n",
        "#         item.add(i)\n",
        "#         d1[(u,i)]=rat\n",
        "# tt=int(len(user)/5)+1\n",
        "\n",
        "# mat=np.zeros((len(user),len(item)))\n",
        "\n",
        "# for ele in d1:\n",
        "#     u=ele[0]-1\n",
        "#     i=ele[1]-1\n",
        "#     rat=d1[ele]\n",
        "#     mat[u,i]=rat\n",
        "\n",
        "# raw_movies_data = pd.read_json(\"/content/drive/My Drive/IIITD/CF_project/FlickScore Dataset/movies.json\", lines=True)\n",
        "# unique_movie_id = raw_movies_data['movie_id'].unique()\n",
        "\n",
        "# raw_users_data = pd.read_json(\"/content/drive/My Drive/IIITD/CF_project/FlickScore Dataset/users.json\", lines=True)\n",
        "# unique_user_id = raw_users_data['_id'].unique()\n",
        "\n",
        "# raw_ratings_keys = ['_id', 'rated']\n",
        "# raw_ratings = pd.read_json(\"/content/drive/My Drive/IIITD/CF_project/FlickScore Dataset/ratings.json\",lines=True)\n",
        "# print(raw_ratings.shape)\n",
        "\n",
        "# user_item = pd.DataFrame(index=unique_user_id, columns=unique_movie_id)\n",
        "\n",
        "# for i in range(raw_ratings.shape[0]):\n",
        "#     a = raw_ratings.iloc[i][0]\n",
        "#     list_keys = raw_ratings.iloc[i][1]\n",
        "#     for el in list_keys:\n",
        "#         if (el != 'submit'):\n",
        "#             if(int(list_keys[el][0])==-1):\n",
        "#               user_item[el][a]=0\n",
        "#             elif(int(list_keys[el][0])==0):\n",
        "#               user_item[el][a]=5\n",
        "#             else:\n",
        "#               user_item[el][a]=10\n",
        "            \n",
        "\n",
        "# user_item.fillna(0,inplace=True)\n",
        "# mat=np.array(user_item)\n",
        "# mat=np.nan_to_num(mat)\n",
        "# print(mat.shape)\n",
        "# print(np.unique(mat))\n",
        "\n",
        "hg=pd.read_excel(open(\"/content/drive/My Drive/IIITD/CF_project/Jester Dataset/jester-data-2.xls\",\"rb\"),header=None)"
      ],
      "execution_count": 0,
      "outputs": []
    },
    {
      "metadata": {
        "id": "UiYD7CjKmrHD",
        "colab_type": "code",
        "colab": {}
      },
      "cell_type": "code",
      "source": [
        "mat=np.array(hg.drop([0],axis=1))+10\n",
        "\n",
        "mat[mat==109]=0"
      ],
      "execution_count": 0,
      "outputs": []
    },
    {
      "metadata": {
        "id": "l53DcwpyJntT",
        "colab_type": "code",
        "outputId": "a2ed1455-d356-46d0-d8e0-8b7fa7d8b985",
        "colab": {
          "base_uri": "https://localhost:8080/",
          "height": 51
        }
      },
      "cell_type": "code",
      "source": [
        "user=(range(mat.shape[0]))\n",
        "print(user)\n",
        "item=(range(mat.shape[1]))\n",
        "print(item)"
      ],
      "execution_count": 15,
      "outputs": [
        {
          "output_type": "stream",
          "text": [
            "range(0, 23500)\n",
            "range(0, 100)\n"
          ],
          "name": "stdout"
        }
      ]
    },
    {
      "metadata": {
        "id": "ArGbf9asadue",
        "colab_type": "code",
        "outputId": "51e4acc1-16ec-48cd-92d6-06d32c7fa76a",
        "colab": {
          "base_uri": "https://localhost:8080/",
          "height": 170
        }
      },
      "cell_type": "code",
      "source": [
        "print(mat[0,:])"
      ],
      "execution_count": 16,
      "outputs": [
        {
          "output_type": "stream",
          "text": [
            "[ 0.   18.11  0.    0.    7.72  5.78 15.49  7.38  0.    7.72 15.34 13.54\n",
            "  0.29 13.3   4.42  3.93  9.71 12.33 13.93  9.66  3.11  7.91  1.17  0.\n",
            " 15.15 13.98 14.47 13.88 15.29  0.   17.09  7.77  0.    0.   13.11  5.58\n",
            "  0.    4.13  0.    2.72  0.    5.29  1.07  0.   13.4   2.82 12.28 17.48\n",
            " 15.15 15.73  0.    0.   15.78 13.2   9.56 15.73  0.    0.    0.    0.\n",
            "  1.75 14.61  0.    0.    6.02 14.9   0.    5.68  7.28  0.    0.    0.\n",
            "  0.    0.    0.    0.    0.    0.    0.    0.    0.    0.    0.    0.\n",
            "  0.    0.    0.    0.   11.21  0.    0.    0.    0.    0.    0.    4.08\n",
            "  0.    0.    0.    0.  ]\n"
          ],
          "name": "stdout"
        }
      ]
    },
    {
      "metadata": {
        "id": "Ta2KlQFpz-zz",
        "colab_type": "code",
        "outputId": "9322acd3-c9a9-4ce0-ab89-78fcce1e6519",
        "colab": {
          "base_uri": "https://localhost:8080/",
          "height": 85
        }
      },
      "cell_type": "code",
      "source": [
        "no_of_cluster=40\n",
        "kmeans = KMeans(n_clusters=10, random_state=0).fit(mat)\n",
        "d1=dict()\n",
        "clusters=[]\n",
        "for i in range(no_of_cluster):\n",
        "  l1=[]\n",
        "  clusters.append(l1)\n",
        "for i in range(len(kmeans.labels_)):\n",
        "  label=kmeans.labels_[i]\n",
        "  clusters[label].append(i)\n",
        "  d1[i]=label\n",
        "\n",
        "\n",
        "print(kmeans.labels_)\n",
        "n=len(user)\n",
        "m=len(item)\n",
        "\n",
        "S=np.random.rand(m,m)\n",
        "cluster=[]\n",
        "for i in range(10):\n",
        "  pg=np.random.rand(m,m)\n",
        "  cluster.append(pg)\n",
        "  \n",
        "#learning rate\n",
        "alpha=0.001\n",
        "#regularization constants\n",
        "gu=np.full((n,1),0.5)\n",
        "g1u=np.full((n,1),0.5)\n",
        "\n",
        "beta1=0.5\n",
        "beta2=0.5\n",
        "\n",
        "iter=100\n",
        "\n",
        "#global similarity\n",
        "global1=np.zeros((m,m))\n",
        "print('here1')\n",
        "for i in range(m):\n",
        "  for j in range(m):\n",
        "    if i==j:\n",
        "      global1[i][j]=1\n",
        "    else:\n",
        "      l1=mat[:,i]\n",
        "      l2=mat[:,j]\n",
        "      s=1-spatial.distance.cosine(l1,l2)\n",
        "      global1[i][j]=s\n",
        "      \n",
        "no_of_clusters=40\n",
        "cl=[]\n",
        "for ele in clusters:\n",
        "  mat1=np.zeros((len(user),len(item)))\n",
        "  for ele1 in ele:\n",
        "    mat1[ele1,:]=mat[ele1,:]\n",
        "  local=np.zeros((m,m))\n",
        "  for i in range(m):\n",
        "    for j in range(m):\n",
        "      if i==j:\n",
        "        local[i][j]=1\n",
        "      else:\n",
        "        l1=mat1[:,i]\n",
        "        l2=mat1[:,j]\n",
        "        s=1-spatial.distance.cosine(l1,l2)\n",
        "        local[i][j]=s\n",
        "  local=local.tolist()\n",
        "  cl.append(local)\n",
        "# import json\n",
        "# with open('/content/drive/My Drive/CF_project/ML/global.json', 'w') as outfile:\n",
        "#     json.dump(global1.tolist(), outfile)\n",
        "# print(\"global\")\n",
        "# with open('/content/drive/My Drive/CF_project/ML/local.json', 'w') as outfile:\n",
        "#     json.dump(cl, outfile)\n",
        "# print(\"local\")\n",
        "\n",
        "\n",
        "  \n",
        "# Dataset='MovieLens Dataset'\n",
        "# dfile = open('/content/drive/My Drive/IIITD/CF_project/'+Dataset+'/cluster_10', 'wb')       \n",
        "# # source, destination \n",
        "# pickle.dump(d1, dfile)                      \n",
        "# dfile.close() \n",
        "# print(\"cluster_10\")\n",
        "\n",
        "# dfile = open('/content/drive/My Drive/IIITD/CF_project/'+Dataset+'/rating_Matrix', 'wb')       \n",
        "# # source, destination \n",
        "# pickle.dump(mat, dfile)                      \n",
        "# dfile.close() \n",
        "# print(\"rating_matrix\")\n",
        "\n",
        "# with open('/content/drive/My Drive/IIITD/CF_project/'+Dataset+'/global.json', 'w') as outfile:\n",
        "#     json.dump(mat1.tolist(), outfile)\n",
        "# print(\"global\")\n",
        "# with open('/content/drive/My Drive/IIITD/CF_project/'+Dataset+'/local.json', 'w') as outfile:\n",
        "#     json.dump(cl, outfile)\n",
        "# print(\"local\")"
      ],
      "execution_count": 24,
      "outputs": [
        {
          "output_type": "stream",
          "text": [
            "[9 5 0 ... 9 1 0]\n",
            "here1\n"
          ],
          "name": "stdout"
        },
        {
          "output_type": "stream",
          "text": [
            "/usr/local/lib/python3.6/dist-packages/scipy/spatial/distance.py:698: RuntimeWarning: invalid value encountered in double_scalars\n",
            "  dist = 1.0 - uv / np.sqrt(uu * vv)\n"
          ],
          "name": "stderr"
        }
      ]
    },
    {
      "metadata": {
        "id": "60agJv2a5UHb",
        "colab_type": "code",
        "colab": {
          "base_uri": "https://localhost:8080/",
          "height": 187
        },
        "outputId": "b181e9d1-97c3-4d75-b348-bb55845c0b4d"
      },
      "cell_type": "code",
      "source": [
        "print(global1[:5,:5])\n",
        "print(np.array(cl)[0][:5,:5])\n"
      ],
      "execution_count": 10,
      "outputs": [
        {
          "output_type": "stream",
          "text": [
            "[[1.         0.83603864 0.85257945 0.81761196 0.67159818]\n",
            " [0.83603864 1.         0.81037074 0.78272175 0.69608988]\n",
            " [0.85257945 0.81037074 1.         0.82240783 0.67609719]\n",
            " [0.81761196 0.78272175 0.82240783 1.         0.64420958]\n",
            " [0.67159818 0.69608988 0.67609719 0.64420958 1.        ]]\n",
            "[[1.         0.23734477 0.44099009 0.23081938 0.09713818]\n",
            " [0.23734477 1.         0.22794648 0.24747771 0.18040431]\n",
            " [0.44099009 0.22794648 1.         0.2645387  0.10316759]\n",
            " [0.23081938 0.24747771 0.2645387  1.         0.08990782]\n",
            " [0.09713818 0.18040431 0.10316759 0.08990782 1.        ]]\n"
          ],
          "name": "stdout"
        }
      ]
    },
    {
      "metadata": {
        "id": "Tbx79uFGteV8",
        "colab_type": "code",
        "outputId": "d2241101-1b6f-4a32-99b5-35773f996c3d",
        "colab": {
          "base_uri": "https://localhost:8080/",
          "height": 51
        }
      },
      "cell_type": "code",
      "source": [
        "  \n",
        "Dataset='Jester Dataset'\n",
        "dfile = open('/content/drive/My Drive/IIITD/CF_project/'+Dataset+'/cluster_20', 'wb')       \n",
        "# source, destination \n",
        "pickle.dump(d1, dfile)                      \n",
        "dfile.close() \n",
        "print(\"cluster_20\")\n",
        "\n",
        "dfile = open('/content/drive/My Drive/IIITD/CF_project/'+Dataset+'/rating_Matrix', 'wb')       \n",
        "# source, destination \n",
        "pickle.dump(mat, dfile)                      \n",
        "dfile.close() \n",
        "print(\"rating_matrix\")\n"
      ],
      "execution_count": 25,
      "outputs": [
        {
          "output_type": "stream",
          "text": [
            "cluster_20\n",
            "rating_matrix\n"
          ],
          "name": "stdout"
        }
      ]
    },
    {
      "metadata": {
        "id": "5TjMkUdHqqwT",
        "colab_type": "code",
        "outputId": "a7422785-5126-4973-dff1-3c8ae19458e2",
        "colab": {
          "base_uri": "https://localhost:8080/",
          "height": 51
        }
      },
      "cell_type": "code",
      "source": [
        "import json\n",
        "with open('/content/drive/My Drive/IIITD/CF_project/'+Dataset+'/global_20.json', 'w') as outfile:\n",
        "    json.dump(global1.tolist(), outfile)\n",
        "print(\"global\")\n",
        "with open('/content/drive/My Drive/IIITD/CF_project/'+Dataset+'/local_20.json', 'w') as outfile:\n",
        "    json.dump(cl, outfile)\n",
        "print(\"local\")"
      ],
      "execution_count": 26,
      "outputs": [
        {
          "output_type": "stream",
          "text": [
            "global\n",
            "local\n"
          ],
          "name": "stdout"
        }
      ]
    }
  ]
}